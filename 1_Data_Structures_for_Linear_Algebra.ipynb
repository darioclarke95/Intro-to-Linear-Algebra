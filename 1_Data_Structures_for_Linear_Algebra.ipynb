{
  "nbformat": 4,
  "nbformat_minor": 0,
  "metadata": {
    "colab": {
      "name": "1.Data Structures for Linear Algebra.ipynb",
      "provenance": [],
      "collapsed_sections": [
        "874iEi1AYhuS",
        "egQmP8enY2tC",
        "7zyMHIJBd_Xr",
        "j0urWKiidIS5",
        "jAzUs8jNbrmA",
        "s3OE__MTWZL2",
        "8bZMuK9hjxOo"
      ],
      "authorship_tag": "ABX9TyMn2lhG8T0EFUvE+qdcLHwK",
      "include_colab_link": true
    },
    "kernelspec": {
      "name": "python3",
      "display_name": "Python 3"
    },
    "language_info": {
      "name": "python"
    }
  },
  "cells": [
    {
      "cell_type": "markdown",
      "metadata": {
        "id": "view-in-github",
        "colab_type": "text"
      },
      "source": [
        "<a href=\"https://colab.research.google.com/github/darioclarke95/Intro-to-Linear-Algebra/blob/main/1_Data_Structures_for_Linear_Algebra.ipynb\" target=\"_parent\"><img src=\"https://colab.research.google.com/assets/colab-badge.svg\" alt=\"Open In Colab\"/></a>"
      ]
    },
    {
      "cell_type": "markdown",
      "source": [
        "# What is Linear Algebra?\n",
        "Solving for unknowns withins a system of linear equations.\n",
        "\n",
        "In linear algebra, for a system of linear equations, there is either **one solution** (the lines in the system of equations intercept), **no solutions** (the lines in the system are parallel) or **infinite solutions** (the lines overlap)\n",
        "\n",
        "In a system of equations there may be many equations and many unknowns"
      ],
      "metadata": {
        "id": "77pcnjvjexrw"
      }
    },
    {
      "cell_type": "code",
      "source": [
        "import numpy as np\n",
        "import matplotlib.pyplot as plt\n",
        "\n",
        "t = np.linspace(0, 40, 1000)\n",
        "# Distance traveled by robber: d = 2.5t\n",
        "d_r = 2.5*t \n",
        "\n",
        "# Dinstance travelled by police d = 3(t-5)\n",
        "d_p = 3*(t - 5)\n",
        "\n",
        "\n",
        "#Plotting the system\n",
        "fig, ax = plt.subplots()\n",
        "plt.title('A Bank Robber Caught')\n",
        "plt.xlabel('time (minutes)')\n",
        "plt.ylabel('distance (km)')\n",
        "ax.set_xlim([0, 40])\n",
        "ax.set_ylim([0, 100])\n",
        "ax.plot(t, d_r, c='green')\n",
        "ax.plot(t, d_p, c='brown')\n",
        "plt.axvline(x=30, color='purple', linestyle='--')\n",
        "plt.axhline(y=75, color='purple', linestyle='--')\n",
        "plt.tight_layout()"
      ],
      "metadata": {
        "colab": {
          "base_uri": "https://localhost:8080/",
          "height": 297
        },
        "id": "4O2neLYs239C",
        "outputId": "572eb6a9-b576-4236-bb36-8aa505a5ff7e"
      },
      "execution_count": 2,
      "outputs": [
        {
          "output_type": "display_data",
          "data": {
            "text/plain": [
              "<Figure size 432x288 with 1 Axes>"
            ],
            "image/png": "[encoded data removed]"
          },
          "metadata": {
            "needs_background": "light"
          }
        }
      ]
    },
    {
      "cell_type": "markdown",
      "source": [
        "# Tensors\n",
        "A Tensor is a machine learning specific generalisation of vectors and matrices to any number of dimensions"
      ],
      "metadata": {
        "id": "4SqeB6JQ6SG4"
      }
    },
    {
      "cell_type": "markdown",
      "metadata": {
        "id": "874iEi1AYhuS"
      },
      "source": [
        "#Scalars (Rank 0 Tensors)\n",
        "* no dimensions\n",
        "* single number\n",
        "* denoted in lowercase, italics. e.g. *x*\n",
        "* should have an assigned data type like all other tensors"
      ]
    },
    {
      "cell_type": "code",
      "metadata": {
        "id": "pPyMY3sg5C8u"
      },
      "source": [
        "# Scalars in base Python"
      ],
      "execution_count": 3,
      "outputs": []
    },
    {
      "cell_type": "code",
      "metadata": {
        "colab": {
          "base_uri": "https://localhost:8080/"
        },
        "id": "itR8H4OEwJh0",
        "outputId": "4034ec70-4550-4277-984c-80d613291498"
      },
      "source": [
        "x = 25\n",
        "x"
      ],
      "execution_count": 4,
      "outputs": [
        {
          "output_type": "execute_result",
          "data": {
            "text/plain": [
              "25"
            ]
          },
          "metadata": {},
          "execution_count": 4
        }
      ]
    },
    {
      "cell_type": "code",
      "metadata": {
        "colab": {
          "base_uri": "https://localhost:8080/"
        },
        "id": "Y49qhxxGwXa2",
        "outputId": "a681d49d-efa7-462d-964c-15030099b467"
      },
      "source": [
        "y = 3\n",
        "y"
      ],
      "execution_count": 5,
      "outputs": [
        {
          "output_type": "execute_result",
          "data": {
            "text/plain": [
              "3"
            ]
          },
          "metadata": {},
          "execution_count": 5
        }
      ]
    },
    {
      "cell_type": "code",
      "metadata": {
        "colab": {
          "base_uri": "https://localhost:8080/"
        },
        "id": "sA4BAzUywY1l",
        "outputId": "fb826aa2-c657-4223-de74-8001127162f1"
      },
      "source": [
        "py_sum = x + y\n",
        "py_sum"
      ],
      "execution_count": 6,
      "outputs": [
        {
          "output_type": "execute_result",
          "data": {
            "text/plain": [
              "28"
            ]
          },
          "metadata": {},
          "execution_count": 6
        }
      ]
    },
    {
      "cell_type": "code",
      "metadata": {
        "colab": {
          "base_uri": "https://localhost:8080/"
        },
        "id": "AmVe3XM_wbJL",
        "outputId": "36e96818-6255-4643-b538-0598260710f7"
      },
      "source": [
        "type(py_sum)"
      ],
      "execution_count": 7,
      "outputs": [
        {
          "output_type": "execute_result",
          "data": {
            "text/plain": [
              "int"
            ]
          },
          "metadata": {},
          "execution_count": 7
        }
      ]
    },
    {
      "cell_type": "code",
      "metadata": {
        "colab": {
          "base_uri": "https://localhost:8080/"
        },
        "id": "gs4M3lI_wfXZ",
        "outputId": "cc5688a8-3afe-4751-83eb-e174f03a0589"
      },
      "source": [
        "x_float = 25.0\n",
        "float_sum = x_float + y\n",
        "float_sum"
      ],
      "execution_count": 8,
      "outputs": [
        {
          "output_type": "execute_result",
          "data": {
            "text/plain": [
              "28.0"
            ]
          },
          "metadata": {},
          "execution_count": 8
        }
      ]
    },
    {
      "cell_type": "code",
      "metadata": {
        "colab": {
          "base_uri": "https://localhost:8080/"
        },
        "id": "XfFWnqgVwpcQ",
        "outputId": "5cf5a41d-bc51-405a-d2a5-efe80792291e"
      },
      "source": [
        "type(float_sum)"
      ],
      "execution_count": 9,
      "outputs": [
        {
          "output_type": "execute_result",
          "data": {
            "text/plain": [
              "float"
            ]
          },
          "metadata": {},
          "execution_count": 9
        }
      ]
    },
    {
      "cell_type": "code",
      "metadata": {
        "id": "XVF7crYlwrTW"
      },
      "source": [
        "# Scalars in PyTorch"
      ],
      "execution_count": 10,
      "outputs": []
    },
    {
      "cell_type": "code",
      "metadata": {
        "id": "jWr-bBhBwxKD"
      },
      "source": [
        "import torch"
      ],
      "execution_count": 11,
      "outputs": []
    },
    {
      "cell_type": "code",
      "metadata": {
        "colab": {
          "base_uri": "https://localhost:8080/"
        },
        "id": "q5W4cOKCwyCS",
        "outputId": "a78383c8-f6b8-4dfe-e09b-8874a87b02e8"
      },
      "source": [
        "x_pt = torch.tensor(25)\n",
        "x_pt"
      ],
      "execution_count": 12,
      "outputs": [
        {
          "output_type": "execute_result",
          "data": {
            "text/plain": [
              "tensor(25)"
            ]
          },
          "metadata": {},
          "execution_count": 12
        }
      ]
    },
    {
      "cell_type": "code",
      "metadata": {
        "colab": {
          "base_uri": "https://localhost:8080/"
        },
        "id": "poW4F5OCxa3V",
        "outputId": "08cfc25c-26d4-4527-a74b-dd8132ebf1b9"
      },
      "source": [
        "x_pt.shape"
      ],
      "execution_count": 13,
      "outputs": [
        {
          "output_type": "execute_result",
          "data": {
            "text/plain": [
              "torch.Size([])"
            ]
          },
          "metadata": {},
          "execution_count": 13
        }
      ]
    },
    {
      "cell_type": "code",
      "metadata": {
        "id": "pBCDv5ntya67"
      },
      "source": [
        "# Scalars in Tensorflow"
      ],
      "execution_count": 14,
      "outputs": []
    },
    {
      "cell_type": "code",
      "metadata": {
        "id": "a3eq8Nycym5q"
      },
      "source": [
        "import tensorflow as tf"
      ],
      "execution_count": 15,
      "outputs": []
    },
    {
      "cell_type": "code",
      "metadata": {
        "colab": {
          "base_uri": "https://localhost:8080/"
        },
        "id": "dSSXcjlLyp5n",
        "outputId": "36835860-9c12-48a0-a19e-b2beb7a729c5"
      },
      "source": [
        "x_tf = tf.Variable(25)\n",
        "x_tf"
      ],
      "execution_count": 16,
      "outputs": [
        {
          "output_type": "execute_result",
          "data": {
            "text/plain": [
              "<tf.Variable 'Variable:0' shape=() dtype=int32, numpy=25>"
            ]
          },
          "metadata": {},
          "execution_count": 16
        }
      ]
    },
    {
      "cell_type": "code",
      "metadata": {
        "colab": {
          "base_uri": "https://localhost:8080/"
        },
        "id": "KTgSjJ_0yw5l",
        "outputId": "f7561196-de8c-40b5-94c7-d2b6de68736e"
      },
      "source": [
        "x_tf.shape"
      ],
      "execution_count": 17,
      "outputs": [
        {
          "output_type": "execute_result",
          "data": {
            "text/plain": [
              "TensorShape([])"
            ]
          },
          "metadata": {},
          "execution_count": 17
        }
      ]
    },
    {
      "cell_type": "code",
      "metadata": {
        "colab": {
          "base_uri": "https://localhost:8080/"
        },
        "id": "HIgYyMVJy0Vh",
        "outputId": "6d6c9ab0-6714-46be-b2e0-d38ad3e0cf70"
      },
      "source": [
        "y_tf = tf.Variable(3)\n",
        "y_tf"
      ],
      "execution_count": 18,
      "outputs": [
        {
          "output_type": "execute_result",
          "data": {
            "text/plain": [
              "<tf.Variable 'Variable:0' shape=() dtype=int32, numpy=3>"
            ]
          },
          "metadata": {},
          "execution_count": 18
        }
      ]
    },
    {
      "cell_type": "code",
      "metadata": {
        "colab": {
          "base_uri": "https://localhost:8080/"
        },
        "id": "Mnloqo-PzE3R",
        "outputId": "387ee6be-e342-41fc-e1aa-01ed56610b41"
      },
      "source": [
        "x_tf + y_tf"
      ],
      "execution_count": 19,
      "outputs": [
        {
          "output_type": "execute_result",
          "data": {
            "text/plain": [
              "<tf.Tensor: shape=(), dtype=int32, numpy=28>"
            ]
          },
          "metadata": {},
          "execution_count": 19
        }
      ]
    },
    {
      "cell_type": "code",
      "metadata": {
        "colab": {
          "base_uri": "https://localhost:8080/"
        },
        "id": "rAKiSbfrzLxt",
        "outputId": "1ab91393-003d-430e-f6ea-40d8d9c95db6"
      },
      "source": [
        "tf_sum  = tf.add(x_tf, y_tf)\n",
        "tf_sum"
      ],
      "execution_count": 20,
      "outputs": [
        {
          "output_type": "execute_result",
          "data": {
            "text/plain": [
              "<tf.Tensor: shape=(), dtype=int32, numpy=28>"
            ]
          },
          "metadata": {},
          "execution_count": 20
        }
      ]
    },
    {
      "cell_type": "code",
      "metadata": {
        "colab": {
          "base_uri": "https://localhost:8080/"
        },
        "id": "WKuEejILzVbj",
        "outputId": "c55cd5b9-8a2b-4e1c-b7e3-c767bf8d96cb"
      },
      "source": [
        "tf_sum.numpy()"
      ],
      "execution_count": 21,
      "outputs": [
        {
          "output_type": "execute_result",
          "data": {
            "text/plain": [
              "28"
            ]
          },
          "metadata": {},
          "execution_count": 21
        }
      ]
    },
    {
      "cell_type": "code",
      "metadata": {
        "colab": {
          "base_uri": "https://localhost:8080/"
        },
        "id": "8NRtFrGd0Dya",
        "outputId": "ce6103b4-8f0d-46b8-a1ba-1c0de770fd6c"
      },
      "source": [
        "type(tf_sum.numpy())"
      ],
      "execution_count": 22,
      "outputs": [
        {
          "output_type": "execute_result",
          "data": {
            "text/plain": [
              "numpy.int32"
            ]
          },
          "metadata": {},
          "execution_count": 22
        }
      ]
    },
    {
      "cell_type": "code",
      "metadata": {
        "colab": {
          "base_uri": "https://localhost:8080/"
        },
        "id": "76zvIDnG0I6E",
        "outputId": "aa4a225b-c57a-4c50-f9d7-e00555510383"
      },
      "source": [
        "tf_float = tf.Variable(25, dtype=tf.float16)\n",
        "tf_float"
      ],
      "execution_count": 23,
      "outputs": [
        {
          "output_type": "execute_result",
          "data": {
            "text/plain": [
              "<tf.Variable 'Variable:0' shape=() dtype=float16, numpy=25.0>"
            ]
          },
          "metadata": {},
          "execution_count": 23
        }
      ]
    },
    {
      "cell_type": "code",
      "metadata": {
        "id": "fQaTYYg90RWh"
      },
      "source": [
        ""
      ],
      "execution_count": 23,
      "outputs": []
    },
    {
      "cell_type": "markdown",
      "metadata": {
        "id": "egQmP8enY2tC"
      },
      "source": [
        "# Vectors (Rank 1 Tensors)\n",
        "* one-dimentional array of numbers\n",
        "* denoted in lowercase, italics, bold. e.g. ***x***\n",
        "* order matters and elements can be addressed by index\n",
        "* elements are scalars\n",
        "* Vectors typically represent a point in space:\n",
        " - Vector of length 2 represents a location in a 2D matrix\n",
        " - Vector of length 3 represents a location in a 3D cube\n"
      ]
    },
    {
      "cell_type": "markdown",
      "source": [
        "## Vectors"
      ],
      "metadata": {
        "id": "7zyMHIJBd_Xr"
      }
    },
    {
      "cell_type": "code",
      "metadata": {
        "id": "LlpZkhoL7kL7"
      },
      "source": [
        "# Creating Vectors in Numpy"
      ],
      "execution_count": 24,
      "outputs": []
    },
    {
      "cell_type": "code",
      "metadata": {
        "id": "2kUOvPw_64_X"
      },
      "source": [
        "import numpy as np"
      ],
      "execution_count": 25,
      "outputs": []
    },
    {
      "cell_type": "code",
      "metadata": {
        "colab": {
          "base_uri": "https://localhost:8080/"
        },
        "id": "wnSSPRBo6-0J",
        "outputId": "701e4de1-bab0-4260-a5d6-5584a6e7835f"
      },
      "source": [
        "x = np.array([25,2,5]) # also accepts type argument, e.g. dtype=np.float16\n",
        "x"
      ],
      "execution_count": 26,
      "outputs": [
        {
          "output_type": "execute_result",
          "data": {
            "text/plain": [
              "array([25,  2,  5])"
            ]
          },
          "metadata": {},
          "execution_count": 26
        }
      ]
    },
    {
      "cell_type": "code",
      "metadata": {
        "colab": {
          "base_uri": "https://localhost:8080/"
        },
        "id": "ICKZMFcq7Mxc",
        "outputId": "4a8c60f5-801f-427c-ada0-c156aae9671e"
      },
      "source": [
        "len(x)"
      ],
      "execution_count": 27,
      "outputs": [
        {
          "output_type": "execute_result",
          "data": {
            "text/plain": [
              "3"
            ]
          },
          "metadata": {},
          "execution_count": 27
        }
      ]
    },
    {
      "cell_type": "code",
      "metadata": {
        "colab": {
          "base_uri": "https://localhost:8080/"
        },
        "id": "IbEJIEpL7Pz-",
        "outputId": "1bf716ce-311c-4c2a-94b2-32cd53ceb785"
      },
      "source": [
        "x.shape"
      ],
      "execution_count": 28,
      "outputs": [
        {
          "output_type": "execute_result",
          "data": {
            "text/plain": [
              "(3,)"
            ]
          },
          "metadata": {},
          "execution_count": 28
        }
      ]
    },
    {
      "cell_type": "code",
      "metadata": {
        "colab": {
          "base_uri": "https://localhost:8080/"
        },
        "id": "xvZ8DzTI7Rdq",
        "outputId": "0ad91f38-f4e2-4a12-b87e-42085f15dfd2"
      },
      "source": [
        "type(x)"
      ],
      "execution_count": 29,
      "outputs": [
        {
          "output_type": "execute_result",
          "data": {
            "text/plain": [
              "numpy.ndarray"
            ]
          },
          "metadata": {},
          "execution_count": 29
        }
      ]
    },
    {
      "cell_type": "code",
      "metadata": {
        "colab": {
          "base_uri": "https://localhost:8080/"
        },
        "id": "bMN3N0is7UC5",
        "outputId": "929b8847-3dd1-4a62-d6e2-19be82a34347"
      },
      "source": [
        "x[0] # zero-indexed"
      ],
      "execution_count": 30,
      "outputs": [
        {
          "output_type": "execute_result",
          "data": {
            "text/plain": [
              "25"
            ]
          },
          "metadata": {},
          "execution_count": 30
        }
      ]
    },
    {
      "cell_type": "code",
      "metadata": {
        "colab": {
          "base_uri": "https://localhost:8080/"
        },
        "id": "gTpSu6-B7WEA",
        "outputId": "71fdfdd1-9613-45e9-d852-d50e644d5d97"
      },
      "source": [
        "type(x[0])"
      ],
      "execution_count": 31,
      "outputs": [
        {
          "output_type": "execute_result",
          "data": {
            "text/plain": [
              "numpy.int64"
            ]
          },
          "metadata": {},
          "execution_count": 31
        }
      ]
    },
    {
      "cell_type": "code",
      "metadata": {
        "id": "Ww4pIsDH_c6o"
      },
      "source": [
        "# Zero vectors\n",
        "# They have no effect if added to another vector"
      ],
      "execution_count": 32,
      "outputs": []
    },
    {
      "cell_type": "code",
      "metadata": {
        "colab": {
          "base_uri": "https://localhost:8080/"
        },
        "id": "soJUAWp2_nAV",
        "outputId": "7c294245-fd62-4eeb-d6f4-46f8ea10887c"
      },
      "source": [
        "z = np.zeros(3)\n",
        "z"
      ],
      "execution_count": 33,
      "outputs": [
        {
          "output_type": "execute_result",
          "data": {
            "text/plain": [
              "array([0., 0., 0.])"
            ]
          },
          "metadata": {},
          "execution_count": 33
        }
      ]
    },
    {
      "cell_type": "code",
      "metadata": {
        "id": "5ohIZ58u_qK4"
      },
      "source": [
        "# Vectors in pytorch and tensorflow"
      ],
      "execution_count": 34,
      "outputs": []
    },
    {
      "cell_type": "code",
      "metadata": {
        "colab": {
          "base_uri": "https://localhost:8080/"
        },
        "id": "t2s7L3XZ_yr5",
        "outputId": "e5b3b614-d9d7-49f4-df7b-b25eb0d2044d"
      },
      "source": [
        "x_pt = torch.tensor([25, 2, 5])\n",
        "x_pt"
      ],
      "execution_count": 35,
      "outputs": [
        {
          "output_type": "execute_result",
          "data": {
            "text/plain": [
              "tensor([25,  2,  5])"
            ]
          },
          "metadata": {},
          "execution_count": 35
        }
      ]
    },
    {
      "cell_type": "code",
      "metadata": {
        "colab": {
          "base_uri": "https://localhost:8080/"
        },
        "id": "EnPTsAi_AVik",
        "outputId": "88c54295-a594-44b4-ad79-394633a10abf"
      },
      "source": [
        "x_pt.shape"
      ],
      "execution_count": 36,
      "outputs": [
        {
          "output_type": "execute_result",
          "data": {
            "text/plain": [
              "torch.Size([3])"
            ]
          },
          "metadata": {},
          "execution_count": 36
        }
      ]
    },
    {
      "cell_type": "code",
      "metadata": {
        "colab": {
          "base_uri": "https://localhost:8080/"
        },
        "id": "I9pfo4Sa_4aa",
        "outputId": "cb8bd702-7d8f-45ef-cf89-66cc29150c4c"
      },
      "source": [
        "x_tf = tf.Variable([25, 2, 5])\n",
        "x_tf"
      ],
      "execution_count": 37,
      "outputs": [
        {
          "output_type": "execute_result",
          "data": {
            "text/plain": [
              "<tf.Variable 'Variable:0' shape=(3,) dtype=int32, numpy=array([25,  2,  5], dtype=int32)>"
            ]
          },
          "metadata": {},
          "execution_count": 37
        }
      ]
    },
    {
      "cell_type": "code",
      "metadata": {
        "colab": {
          "base_uri": "https://localhost:8080/"
        },
        "id": "rZt-ixIs_9_q",
        "outputId": "1fa2d3b0-e7ff-4d6d-b734-76bc258342d1"
      },
      "source": [
        "x_tf.shape"
      ],
      "execution_count": 38,
      "outputs": [
        {
          "output_type": "execute_result",
          "data": {
            "text/plain": [
              "TensorShape([3])"
            ]
          },
          "metadata": {},
          "execution_count": 38
        }
      ]
    },
    {
      "cell_type": "markdown",
      "source": [
        "## Vector Transposition\n",
        "* Denoted by superscripted capital T e.g. ***x***<sup>T</sup>\n",
        "* Converts row vectors to column vectors and vice versa"
      ],
      "metadata": {
        "id": "j0urWKiidIS5"
      }
    },
    {
      "cell_type": "code",
      "metadata": {
        "id": "2iw2t6eI7eGb"
      },
      "source": [
        "# Transposing Vectors in Numpy"
      ],
      "execution_count": 39,
      "outputs": []
    },
    {
      "cell_type": "code",
      "metadata": {
        "colab": {
          "base_uri": "https://localhost:8080/"
        },
        "id": "qz20J2Y39o9P",
        "outputId": "d000d7af-4365-4181-da5d-47a6e4d698b6"
      },
      "source": [
        "# Transposing 1D array has no effect\n",
        "x_t = x.T \n",
        "x_t"
      ],
      "execution_count": 40,
      "outputs": [
        {
          "output_type": "execute_result",
          "data": {
            "text/plain": [
              "array([25,  2,  5])"
            ]
          },
          "metadata": {},
          "execution_count": 40
        }
      ]
    },
    {
      "cell_type": "code",
      "metadata": {
        "colab": {
          "base_uri": "https://localhost:8080/"
        },
        "id": "ZA3ugkFs9vTw",
        "outputId": "62fe7bf7-250e-4d84-c725-15ae1b04f851"
      },
      "source": [
        "x_t.shape"
      ],
      "execution_count": 41,
      "outputs": [
        {
          "output_type": "execute_result",
          "data": {
            "text/plain": [
              "(3,)"
            ]
          },
          "metadata": {},
          "execution_count": 41
        }
      ]
    },
    {
      "cell_type": "code",
      "metadata": {
        "colab": {
          "base_uri": "https://localhost:8080/"
        },
        "id": "ySlJq0Xs9sWW",
        "outputId": "02951f76-aced-40c3-8731-865a396d37da"
      },
      "source": [
        "# but transposing a matrix with a dimension of length 1, which is mathematically equivalent, does\n",
        "y = np.array([[25, 2, 5]]) # use nested brackets. we're defining a matrix with one row\n",
        "y"
      ],
      "execution_count": 42,
      "outputs": [
        {
          "output_type": "execute_result",
          "data": {
            "text/plain": [
              "array([[25,  2,  5]])"
            ]
          },
          "metadata": {},
          "execution_count": 42
        }
      ]
    },
    {
      "cell_type": "code",
      "metadata": {
        "colab": {
          "base_uri": "https://localhost:8080/"
        },
        "id": "HOTPDsFs-UCE",
        "outputId": "aaab280d-961a-48a0-f7a7-f884e8bad3d4"
      },
      "source": [
        "y.shape"
      ],
      "execution_count": 43,
      "outputs": [
        {
          "output_type": "execute_result",
          "data": {
            "text/plain": [
              "(1, 3)"
            ]
          },
          "metadata": {},
          "execution_count": 43
        }
      ]
    },
    {
      "cell_type": "code",
      "metadata": {
        "colab": {
          "base_uri": "https://localhost:8080/"
        },
        "id": "YdMuO3d4-VQE",
        "outputId": "82b26462-f1e0-44f4-a541-a35f321d6646"
      },
      "source": [
        "# we go from a matrix with 1 row and 3 columns to a matrix with 3 rows and 1 column\n",
        "y_t = y.T\n",
        "y_t"
      ],
      "execution_count": 44,
      "outputs": [
        {
          "output_type": "execute_result",
          "data": {
            "text/plain": [
              "array([[25],\n",
              "       [ 2],\n",
              "       [ 5]])"
            ]
          },
          "metadata": {},
          "execution_count": 44
        }
      ]
    },
    {
      "cell_type": "code",
      "metadata": {
        "colab": {
          "base_uri": "https://localhost:8080/"
        },
        "id": "jYBq-hQt-gUv",
        "outputId": "13938350-131c-4bda-eed3-49ccc9a1359f"
      },
      "source": [
        "y_t.shape"
      ],
      "execution_count": 45,
      "outputs": [
        {
          "output_type": "execute_result",
          "data": {
            "text/plain": [
              "(3, 1)"
            ]
          },
          "metadata": {},
          "execution_count": 45
        }
      ]
    },
    {
      "cell_type": "code",
      "metadata": {
        "colab": {
          "base_uri": "https://localhost:8080/"
        },
        "id": "up1kqAFr_ZPS",
        "outputId": "7755917e-2b19-4db9-9915-3686daa94ba3"
      },
      "source": [
        "y_t.T"
      ],
      "execution_count": 46,
      "outputs": [
        {
          "output_type": "execute_result",
          "data": {
            "text/plain": [
              "array([[25,  2,  5]])"
            ]
          },
          "metadata": {},
          "execution_count": 46
        }
      ]
    },
    {
      "cell_type": "code",
      "metadata": {
        "colab": {
          "base_uri": "https://localhost:8080/"
        },
        "id": "gbO47m5m_aX2",
        "outputId": "156478ab-3041-4e95-cb18-76f8538a1f03"
      },
      "source": [
        "y_t.T.shape"
      ],
      "execution_count": 47,
      "outputs": [
        {
          "output_type": "execute_result",
          "data": {
            "text/plain": [
              "(1, 3)"
            ]
          },
          "metadata": {},
          "execution_count": 47
        }
      ]
    },
    {
      "cell_type": "markdown",
      "metadata": {
        "id": "jAzUs8jNbrmA"
      },
      "source": [
        "## Norms and Unit Vectors\n",
        "\n",
        "* Vectors can also represent a magnitude and direction through space\n",
        " - ***x*** = [12,4] can also be seen as traveling 12 units from origin in the x<sub>1</sub> direction and 4 units from origin in the x<sub>2</sub> direction\n",
        "\n",
        "### Norm \n",
        "* Norms are functions that quantify the magnitudes of vectors\n"
      ]
    },
    {
      "cell_type": "markdown",
      "source": [
        ""
      ],
      "metadata": {
        "id": "_ChRzZ7jUt1t"
      }
    },
    {
      "cell_type": "markdown",
      "source": [
        "#### L<sup>2</sup> Norm\n",
        "\n",
        "* The most important norm function is the L<sup>2</sup> Norm\n",
        " - Described by:\n",
        "||***x***||<sub>2</sub> = $\\sqrt{\\sum_{i}x_i^2}$ \n",
        " - measures the simple (Euclidean) distance from origin\n",
        " - most common norm in machine learning\n"
      ],
      "metadata": {
        "id": "s3OE__MTWZL2"
      }
    },
    {
      "cell_type": "code",
      "metadata": {
        "colab": {
          "base_uri": "https://localhost:8080/"
        },
        "id": "dAO4n07ieWAa",
        "outputId": "35a548d6-3c49-4ca0-ad80-e266accdda6c"
      },
      "source": [
        "# L2 Norm\n",
        "x"
      ],
      "execution_count": 48,
      "outputs": [
        {
          "output_type": "execute_result",
          "data": {
            "text/plain": [
              "array([25,  2,  5])"
            ]
          },
          "metadata": {},
          "execution_count": 48
        }
      ]
    },
    {
      "cell_type": "code",
      "metadata": {
        "id": "kM9PTLzUhk9Q"
      },
      "source": [
        "def l2_norm(x):\n",
        "  return np.sqrt((x**2).sum())\n"
      ],
      "execution_count": 49,
      "outputs": []
    },
    {
      "cell_type": "code",
      "metadata": {
        "colab": {
          "base_uri": "https://localhost:8080/"
        },
        "id": "BZ8K9eAIiTgD",
        "outputId": "9280e3c5-42e1-4c1d-de4e-57eac3563983"
      },
      "source": [
        "l2_norm(x)"
      ],
      "execution_count": 50,
      "outputs": [
        {
          "output_type": "execute_result",
          "data": {
            "text/plain": [
              "25.573423705088842"
            ]
          },
          "metadata": {},
          "execution_count": 50
        }
      ]
    },
    {
      "cell_type": "code",
      "metadata": {
        "colab": {
          "base_uri": "https://localhost:8080/"
        },
        "id": "glrS9OpwiVso",
        "outputId": "2e318b09-e7ab-4476-a6a9-aeab37684615"
      },
      "source": [
        "np.linalg.norm(x)"
      ],
      "execution_count": 51,
      "outputs": [
        {
          "output_type": "execute_result",
          "data": {
            "text/plain": [
              "25.573423705088842"
            ]
          },
          "metadata": {},
          "execution_count": 51
        }
      ]
    },
    {
      "cell_type": "markdown",
      "metadata": {
        "id": "rFnI6RSrisa7"
      },
      "source": [
        "So, if the units of this 3-dimensional vector space were meters, then the vector ***x*** has a length of 25.6m"
      ]
    },
    {
      "cell_type": "markdown",
      "metadata": {
        "id": "tMmQsotVjIgW"
      },
      "source": [
        "### Unit Vectors\n",
        "* Special case of vectors such that its lenth is equal to 1\n",
        "* a unit vector, say ***x***, is vector with \"unit norm\", i.e. ||x||<sub>2</sub> = 1"
      ]
    },
    {
      "cell_type": "markdown",
      "metadata": {
        "id": "8bZMuK9hjxOo"
      },
      "source": [
        "### Other Norms\n"
      ]
    },
    {
      "cell_type": "markdown",
      "metadata": {
        "id": "h4dvIBzflge2"
      },
      "source": [
        "#### L<sup>1</sup> Norm\n",
        " - ||***x***||<sub>1</sub> = $\\sum_i|x_i|$\n",
        " - Another common norm in ML\n",
        " - Varies linearly at all locations whether near or far from origin\n",
        " - Used whenever the difference between zero and non-zero is key"
      ]
    },
    {
      "cell_type": "code",
      "metadata": {
        "id": "M_d7pISPjtPb"
      },
      "source": [
        "# L1 Norm"
      ],
      "execution_count": 52,
      "outputs": []
    },
    {
      "cell_type": "code",
      "metadata": {
        "colab": {
          "base_uri": "https://localhost:8080/"
        },
        "id": "aUC1RG1KksNf",
        "outputId": "fa479fad-3ff1-4095-8e68-b24fecc7d60d"
      },
      "source": [
        "x"
      ],
      "execution_count": 53,
      "outputs": [
        {
          "output_type": "execute_result",
          "data": {
            "text/plain": [
              "array([25,  2,  5])"
            ]
          },
          "metadata": {},
          "execution_count": 53
        }
      ]
    },
    {
      "cell_type": "code",
      "metadata": {
        "id": "6QgeD3v-kuw5"
      },
      "source": [
        "def l1_norm(x):\n",
        "  return np.abs(x).sum()\n"
      ],
      "execution_count": 54,
      "outputs": []
    },
    {
      "cell_type": "code",
      "metadata": {
        "colab": {
          "base_uri": "https://localhost:8080/"
        },
        "id": "LG5adrZPlCED",
        "outputId": "ded7d6ef-6bb8-476f-ed3a-f4d4efdaf14c"
      },
      "source": [
        "l1_norm(x)"
      ],
      "execution_count": 55,
      "outputs": [
        {
          "output_type": "execute_result",
          "data": {
            "text/plain": [
              "32"
            ]
          },
          "metadata": {},
          "execution_count": 55
        }
      ]
    },
    {
      "cell_type": "markdown",
      "metadata": {
        "id": "rFsrOrOLloh9"
      },
      "source": [
        "#### Squared L<sup>2</sup> Norm\n",
        " - ||***x***||$_2^2$ = $\\sum_ix_i^2$\n",
        " - Computationally cheaper to use than L<sup>2</sup> norm because:\n",
        "   - Squared L<sup>2</sup> norm equals ***x***<sup>T</sup>***x***\n",
        "   - Derivative (used to train many ML algorithms) of element x requires that element alone, whereas L<sup>2</sup> norm requires information about the entire ***x*** vector\n",
        " - Downside is it grows slowly near the origin, so it can't be used if distinguishing between zero and non-zero is important\n"
      ]
    },
    {
      "cell_type": "code",
      "metadata": {
        "colab": {
          "base_uri": "https://localhost:8080/"
        },
        "id": "cmadDnEXouPu",
        "outputId": "248a3146-c610-4892-c348-8539af2b6625"
      },
      "source": [
        "x"
      ],
      "execution_count": 56,
      "outputs": [
        {
          "output_type": "execute_result",
          "data": {
            "text/plain": [
              "array([25,  2,  5])"
            ]
          },
          "metadata": {},
          "execution_count": 56
        }
      ]
    },
    {
      "cell_type": "code",
      "metadata": {
        "id": "vQ_z1MLBoxgE"
      },
      "source": [
        "def squared_l2_norm(x):\n",
        "  return (x**2).sum()"
      ],
      "execution_count": 57,
      "outputs": []
    },
    {
      "cell_type": "code",
      "metadata": {
        "colab": {
          "base_uri": "https://localhost:8080/"
        },
        "id": "ttgZQZ6so6xv",
        "outputId": "86839d80-66ea-4fb9-8396-90b2b550b205"
      },
      "source": [
        "squared_l2_norm(x)"
      ],
      "execution_count": 58,
      "outputs": [
        {
          "output_type": "execute_result",
          "data": {
            "text/plain": [
              "654"
            ]
          },
          "metadata": {},
          "execution_count": 58
        }
      ]
    },
    {
      "cell_type": "code",
      "metadata": {
        "colab": {
          "base_uri": "https://localhost:8080/"
        },
        "id": "fFEy7m9fo8uL",
        "outputId": "b8da2458-bd49-426c-aa62-15162b24f3ec"
      },
      "source": [
        "np.dot(x,x)"
      ],
      "execution_count": 59,
      "outputs": [
        {
          "output_type": "execute_result",
          "data": {
            "text/plain": [
              "654"
            ]
          },
          "metadata": {},
          "execution_count": 59
        }
      ]
    },
    {
      "cell_type": "markdown",
      "metadata": {
        "id": "rkve115e5rhx"
      },
      "source": [
        "#### Max norm (or L<sup>$\\infty$</sup> Norm)\n",
        "  - ||***x***||<sub>$\\infty$</sub> = $max_i|x_i|$\n",
        "  - Also occurs frequently in ML, less so than the others\n",
        "  - Returns the absolute value of largest-magnitude element\n"
      ]
    },
    {
      "cell_type": "code",
      "metadata": {
        "colab": {
          "base_uri": "https://localhost:8080/"
        },
        "id": "0pBeZqXTpD9G",
        "outputId": "e49e758a-371a-4b88-f5b1-e047b97b8e56"
      },
      "source": [
        "x"
      ],
      "execution_count": 60,
      "outputs": [
        {
          "output_type": "execute_result",
          "data": {
            "text/plain": [
              "array([25,  2,  5])"
            ]
          },
          "metadata": {},
          "execution_count": 60
        }
      ]
    },
    {
      "cell_type": "code",
      "metadata": {
        "id": "w5iYDmxi6rfh"
      },
      "source": [
        "def max_norm(x):\n",
        "  return np.abs(x).max()"
      ],
      "execution_count": 61,
      "outputs": []
    },
    {
      "cell_type": "code",
      "metadata": {
        "colab": {
          "base_uri": "https://localhost:8080/"
        },
        "id": "YrKLvtj066OS",
        "outputId": "7901257f-58e9-4c21-e0b9-d77ecb0a3e02"
      },
      "source": [
        "max_norm(x)"
      ],
      "execution_count": 62,
      "outputs": [
        {
          "output_type": "execute_result",
          "data": {
            "text/plain": [
              "25"
            ]
          },
          "metadata": {},
          "execution_count": 62
        }
      ]
    },
    {
      "cell_type": "markdown",
      "metadata": {
        "id": "YNzOlysr7Ty_"
      },
      "source": [
        "#### Generalized L<sup>p</sup> Norm\n",
        "  - ||***x***||<sub>p</sub> = $(\\sum_i|x_i|^p)^\\frac{1}{p}$\n",
        "  - p must be a real number\n",
        "  - p must be greater than or equal to 1\n",
        "  - Can derive L<sup>1</sup>, L<sup>2</sup> and L<sup>$\\infty$</sup> norm formulae by substituting for p\n",
        "  - Norms, particularly L<sup>1</sup> and L<sup>2</sup>, are used to regularize objective functions"
      ]
    },
    {
      "cell_type": "markdown",
      "source": [
        "## Basis, Orthogonal and Orthonormal Vectors\n",
        "\n",
        "### Basis Vectors\n",
        "A set of vectors that:\n",
        " * Can be scaled to represent any vector in a vector space\n",
        " * Are typically unit vectors along the axis of a vector space\n",
        "\n",
        "### Orthoganal Vectors\n",
        "Sets of vectors such that:\n",
        " * The dot product of them is 0\n",
        "  - e.g. In a 2D space for example, ***x*** and ***y*** are orthogonal vectors if the dot product is 0, i.e. ***x***<sup>T</sup>***y*** = 0\n",
        " * In other words the vectors are at a 90&deg; angle to each other, assuming non-zero norms\n",
        " * In an n-dimensional space, there are at most n mutually orthogonal vectors, assuming non-zero norms\n",
        "\n",
        "### Orthonormal Vectors\n",
        "Are vectors that are orthogonal and all have unit norm.  Basis vectors are examples of these."
      ],
      "metadata": {
        "id": "z62NooK8Y367"
      }
    },
    {
      "cell_type": "code",
      "metadata": {
        "id": "dapH2ZyE9sqr",
        "colab": {
          "base_uri": "https://localhost:8080/"
        },
        "outputId": "444cdf9b-6996-42d1-aad0-3411308ae5d3"
      },
      "source": [
        "i = np.array([1,0])\n",
        "i"
      ],
      "execution_count": 63,
      "outputs": [
        {
          "output_type": "execute_result",
          "data": {
            "text/plain": [
              "array([1, 0])"
            ]
          },
          "metadata": {},
          "execution_count": 63
        }
      ]
    },
    {
      "cell_type": "code",
      "source": [
        "j = np.array([0,1])\n",
        "j"
      ],
      "metadata": {
        "colab": {
          "base_uri": "https://localhost:8080/"
        },
        "id": "yEp2TbjPbqJl",
        "outputId": "2e765e9e-2b0b-4ac6-f888-c14315eda7de"
      },
      "execution_count": 64,
      "outputs": [
        {
          "output_type": "execute_result",
          "data": {
            "text/plain": [
              "array([0, 1])"
            ]
          },
          "metadata": {},
          "execution_count": 64
        }
      ]
    },
    {
      "cell_type": "code",
      "source": [
        "np.dot(i,j)"
      ],
      "metadata": {
        "colab": {
          "base_uri": "https://localhost:8080/"
        },
        "id": "KKjio0CObt24",
        "outputId": "c3b74317-3e32-49e2-be94-43f846a6a14f"
      },
      "execution_count": 65,
      "outputs": [
        {
          "output_type": "execute_result",
          "data": {
            "text/plain": [
              "0"
            ]
          },
          "metadata": {},
          "execution_count": 65
        }
      ]
    },
    {
      "cell_type": "markdown",
      "source": [
        "# Matrices (Rank 2 Tensors)\n",
        "* Two dimensional arrays of numbers\n",
        "* Denoted in uppercase, italics, bold, e.g. ***X***\n",
        "* When we denote the dimensions of a matrix, height is given priority over width, i.e. (n<sub>row</sub>,n<sub>col</sub>)\n",
        "  - If ***X*** has three rows and two columns, its dimensions are (3,2)\n",
        "* Individual scalar elements are denoted in uppercase, italics only\n",
        "  - Element in top right corner of a (3,2) matrix ***X*** would be *X*<sub>1,2</sub>\n",
        "* Colons are uses to represent an entire row or column of a matrix:\n",
        "  - Left column of a (3,2) matrix ***X*** is ***X***<sub>:,1</sub>\n",
        "  - Middle row of a (3,2) matrix ***X*** is ***X***<sub>2,:</sub>"
      ],
      "metadata": {
        "id": "1qtf7aAeeMtx"
      }
    },
    {
      "cell_type": "markdown",
      "source": [
        "## Matrices in Numpy"
      ],
      "metadata": {
        "id": "xRCJvwUthFtk"
      }
    },
    {
      "cell_type": "code",
      "source": [
        "X = np.array([[25,2],[5,26],[3,7]])\n",
        "X"
      ],
      "metadata": {
        "colab": {
          "base_uri": "https://localhost:8080/"
        },
        "id": "YdlIcQcCea6_",
        "outputId": "03019909-ade8-416c-81d0-22847d9ed1c5"
      },
      "execution_count": 66,
      "outputs": [
        {
          "output_type": "execute_result",
          "data": {
            "text/plain": [
              "array([[25,  2],\n",
              "       [ 5, 26],\n",
              "       [ 3,  7]])"
            ]
          },
          "metadata": {},
          "execution_count": 66
        }
      ]
    },
    {
      "cell_type": "code",
      "source": [
        "X.shape"
      ],
      "metadata": {
        "colab": {
          "base_uri": "https://localhost:8080/"
        },
        "id": "MjhU-FiGgszu",
        "outputId": "62f0074c-78d9-4edc-9f61-dbf88ad4d502"
      },
      "execution_count": 67,
      "outputs": [
        {
          "output_type": "execute_result",
          "data": {
            "text/plain": [
              "(3, 2)"
            ]
          },
          "metadata": {},
          "execution_count": 67
        }
      ]
    },
    {
      "cell_type": "code",
      "source": [
        "X.size"
      ],
      "metadata": {
        "colab": {
          "base_uri": "https://localhost:8080/"
        },
        "id": "kjOfqAKrgyhV",
        "outputId": "380aa374-517e-4075-dd55-92bcba9ea6fb"
      },
      "execution_count": 68,
      "outputs": [
        {
          "output_type": "execute_result",
          "data": {
            "text/plain": [
              "6"
            ]
          },
          "metadata": {},
          "execution_count": 68
        }
      ]
    },
    {
      "cell_type": "code",
      "source": [
        "X[:,0]"
      ],
      "metadata": {
        "colab": {
          "base_uri": "https://localhost:8080/"
        },
        "id": "H5pjR7tFgzyz",
        "outputId": "29758597-1172-48f7-b5bb-a83101d46a85"
      },
      "execution_count": 69,
      "outputs": [
        {
          "output_type": "execute_result",
          "data": {
            "text/plain": [
              "array([25,  5,  3])"
            ]
          },
          "metadata": {},
          "execution_count": 69
        }
      ]
    },
    {
      "cell_type": "code",
      "source": [
        "X[1,:]"
      ],
      "metadata": {
        "colab": {
          "base_uri": "https://localhost:8080/"
        },
        "id": "nfVztdqfg5W3",
        "outputId": "56c039c4-3e8e-4c31-a62a-b1c27ef6a004"
      },
      "execution_count": 70,
      "outputs": [
        {
          "output_type": "execute_result",
          "data": {
            "text/plain": [
              "array([ 5, 26])"
            ]
          },
          "metadata": {},
          "execution_count": 70
        }
      ]
    },
    {
      "cell_type": "code",
      "source": [
        "X[0:2, 0:2]"
      ],
      "metadata": {
        "colab": {
          "base_uri": "https://localhost:8080/"
        },
        "id": "M0mLcQYrg88z",
        "outputId": "064a6c9e-4252-4202-91f3-df20dd830dfa"
      },
      "execution_count": 71,
      "outputs": [
        {
          "output_type": "execute_result",
          "data": {
            "text/plain": [
              "array([[25,  2],\n",
              "       [ 5, 26]])"
            ]
          },
          "metadata": {},
          "execution_count": 71
        }
      ]
    },
    {
      "cell_type": "markdown",
      "source": [
        "## Matrices in Pytorch"
      ],
      "metadata": {
        "id": "oXW_1nW8heGc"
      }
    },
    {
      "cell_type": "code",
      "source": [
        "X_pt = torch.tensor([[25,2], [5,26], [3,7]])\n",
        "X_pt"
      ],
      "metadata": {
        "colab": {
          "base_uri": "https://localhost:8080/"
        },
        "id": "uPDuUInmhjns",
        "outputId": "a9feda6b-f47a-4954-992f-a68ab36f7b68"
      },
      "execution_count": 72,
      "outputs": [
        {
          "output_type": "execute_result",
          "data": {
            "text/plain": [
              "tensor([[25,  2],\n",
              "        [ 5, 26],\n",
              "        [ 3,  7]])"
            ]
          },
          "metadata": {},
          "execution_count": 72
        }
      ]
    },
    {
      "cell_type": "code",
      "source": [
        "X_pt.shape"
      ],
      "metadata": {
        "colab": {
          "base_uri": "https://localhost:8080/"
        },
        "id": "-Egx_MZ1hxm5",
        "outputId": "00eda778-103e-4b95-fda0-302e63db3b14"
      },
      "execution_count": 73,
      "outputs": [
        {
          "output_type": "execute_result",
          "data": {
            "text/plain": [
              "torch.Size([3, 2])"
            ]
          },
          "metadata": {},
          "execution_count": 73
        }
      ]
    },
    {
      "cell_type": "code",
      "source": [
        "X_pt[1,:]"
      ],
      "metadata": {
        "colab": {
          "base_uri": "https://localhost:8080/"
        },
        "id": "Vxw48Y3Yhzbx",
        "outputId": "7afb9888-730d-4e6d-d02d-083a1acae2a9"
      },
      "execution_count": 74,
      "outputs": [
        {
          "output_type": "execute_result",
          "data": {
            "text/plain": [
              "tensor([ 5, 26])"
            ]
          },
          "metadata": {},
          "execution_count": 74
        }
      ]
    },
    {
      "cell_type": "markdown",
      "source": [
        "## Matrices in TensorFlow"
      ],
      "metadata": {
        "id": "6il37jQEh7gS"
      }
    },
    {
      "cell_type": "code",
      "source": [
        "X_tf = tf.Variable([[25,2], [5,26], [3,7]])\n",
        "X_tf"
      ],
      "metadata": {
        "colab": {
          "base_uri": "https://localhost:8080/"
        },
        "id": "EJUNG_e3h98r",
        "outputId": "1d26f9fa-d9d5-43e5-91e2-bc07826f93bc"
      },
      "execution_count": 75,
      "outputs": [
        {
          "output_type": "execute_result",
          "data": {
            "text/plain": [
              "<tf.Variable 'Variable:0' shape=(3, 2) dtype=int32, numpy=\n",
              "array([[25,  2],\n",
              "       [ 5, 26],\n",
              "       [ 3,  7]], dtype=int32)>"
            ]
          },
          "metadata": {},
          "execution_count": 75
        }
      ]
    },
    {
      "cell_type": "code",
      "source": [
        "tf.rank(X_tf)"
      ],
      "metadata": {
        "colab": {
          "base_uri": "https://localhost:8080/"
        },
        "id": "NHSgt0JMiH8_",
        "outputId": "70eca14d-0ba2-42d3-b5e8-36e24a21d8b1"
      },
      "execution_count": 76,
      "outputs": [
        {
          "output_type": "execute_result",
          "data": {
            "text/plain": [
              "<tf.Tensor: shape=(), dtype=int32, numpy=2>"
            ]
          },
          "metadata": {},
          "execution_count": 76
        }
      ]
    },
    {
      "cell_type": "code",
      "source": [
        "tf.shape(X_tf)"
      ],
      "metadata": {
        "colab": {
          "base_uri": "https://localhost:8080/"
        },
        "id": "0Vxk1XDHiO0O",
        "outputId": "7faba3ca-24bf-473e-abb4-08d9039040f5"
      },
      "execution_count": 77,
      "outputs": [
        {
          "output_type": "execute_result",
          "data": {
            "text/plain": [
              "<tf.Tensor: shape=(2,), dtype=int32, numpy=array([3, 2], dtype=int32)>"
            ]
          },
          "metadata": {},
          "execution_count": 77
        }
      ]
    },
    {
      "cell_type": "code",
      "source": [
        "X_tf[1,:]"
      ],
      "metadata": {
        "colab": {
          "base_uri": "https://localhost:8080/"
        },
        "id": "FCbxcZM8iVG5",
        "outputId": "7a41466a-124d-4526-a66d-c04386cd8723"
      },
      "execution_count": 78,
      "outputs": [
        {
          "output_type": "execute_result",
          "data": {
            "text/plain": [
              "<tf.Tensor: shape=(2,), dtype=int32, numpy=array([ 5, 26], dtype=int32)>"
            ]
          },
          "metadata": {},
          "execution_count": 78
        }
      ]
    },
    {
      "cell_type": "code",
      "source": [
        ""
      ],
      "metadata": {
        "id": "TeYGprswia5g"
      },
      "execution_count": 78,
      "outputs": []
    },
    {
      "cell_type": "markdown",
      "source": [
        "# Generic Tensors (Rank n Tensors)\n",
        "* Upper-case, bold, italics, sans serif\n",
        "* In a 4-tensor ***X***, element at position (i,j,k,l) is denoted as X<sub>(i,j,k,l)</sub>"
      ],
      "metadata": {
        "id": "doCiRQCHVwyT"
      }
    },
    {
      "cell_type": "markdown",
      "source": [
        "## Higher-Rank Tensors\n",
        "Rank 4 tensors are common in ML especially in deep learning models. Very often we have an input tensor that has 4 dimensions. For example, in computer vision, Images tend to have 4 dimensions, here each dimension coresponds to:\n",
        "1. Number of images in training batch (e.g. 32)\n",
        "2. Image height in pixels (e.g. 28 for MNIST digits)\n",
        "3. Image width in pixels (e,g 28)\n",
        "4. Number of colour channels (e.g. 3 for full-colour images)"
      ],
      "metadata": {
        "id": "AFN91pjeWbgE"
      }
    },
    {
      "cell_type": "code",
      "source": [
        "images_pt  = torch.zeros([32,28,28,3])"
      ],
      "metadata": {
        "id": "BUaZCUVtWTbt"
      },
      "execution_count": 79,
      "outputs": []
    },
    {
      "cell_type": "code",
      "source": [
        "images_tf = tf.zeros([32,28,28,3])"
      ],
      "metadata": {
        "id": "ZNcN7VJ_ZUIb"
      },
      "execution_count": 81,
      "outputs": []
    },
    {
      "cell_type": "code",
      "source": [
        ""
      ],
      "metadata": {
        "id": "nRgXIvXwZeEy"
      },
      "execution_count": null,
      "outputs": []
    }
  ]
}